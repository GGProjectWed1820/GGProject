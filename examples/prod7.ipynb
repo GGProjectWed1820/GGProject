{
 "cells": [
  {
   "cell_type": "code",
   "execution_count": null,
   "metadata": {
    "collapsed": true
   },
   "outputs": [],
   "source": [
    "from dataclasses import asdict\n",
    "import networkx as nx\n",
    "\n",
    "from src.vertex_params import VertexType, VertexParams\n",
    "from src.productions.production7 import Production7\n",
    "from src.visualization import draw"
   ]
  },
  {
   "cell_type": "code",
   "execution_count": null,
   "outputs": [],
   "source": [
    "def mk_vertex(t, pos, level):\n",
    "    return asdict(VertexParams(vertex_type=t, position=pos, level=level))"
   ],
   "metadata": {
    "collapsed": false
   }
  },
  {
   "cell_type": "code",
   "execution_count": null,
   "outputs": [],
   "source": [
    "p7 = Production7()"
   ],
   "metadata": {
    "collapsed": false
   }
  },
  {
   "cell_type": "code",
   "execution_count": null,
   "outputs": [],
   "source": [
    "graph_p1 = nx.Graph()\n",
    "\n",
    "graph_p1.add_nodes_from(\n",
    "            [\n",
    "                            (\n",
    "                0,\n",
    "                mk_vertex(VertexType.START_USED, (0.5, 0.5), 0)\n",
    "            ),\n",
    "            (\n",
    "                1,\n",
    "                mk_vertex(\n",
    "                        VertexType.EXTERIOR, (0.0, 0.0), 1\n",
    "                    )\n",
    "            ),\n",
    "            (\n",
    "                2,\n",
    "                mk_vertex(\n",
    "                        VertexType.EXTERIOR, (0.0, 1.0), 1\n",
    "                    )\n",
    "            ),\n",
    "            (\n",
    "                3,\n",
    "                mk_vertex(\n",
    "                        VertexType.EXTERIOR, (1.0, 0.0), 1\n",
    "                    )\n",
    "            ),\n",
    "            (\n",
    "                4,\n",
    "                mk_vertex(\n",
    "                        VertexType.EXTERIOR, (1.0, 1.0), 1\n",
    "                    )\n",
    "            ),\n",
    "            (\n",
    "                5,\n",
    "                mk_vertex(\n",
    "                        VertexType.INTERIOR_USED, (3.0, 3.0), 1\n",
    "                    )\n",
    "            ),\n",
    "            (\n",
    "                6,\n",
    "                mk_vertex(\n",
    "                        VertexType.INTERIOR_USED, (2.0, 2.0), 1\n",
    "                    )\n",
    "            ),\n",
    "            (\n",
    "                7,\n",
    "                mk_vertex(\n",
    "                        VertexType.EXTERIOR, (0.0, 0.0), 2\n",
    "                    )\n",
    "            ),\n",
    "            (\n",
    "                8,\n",
    "                mk_vertex(\n",
    "                        VertexType.EXTERIOR, (0.0, 1.0), 2\n",
    "                    )\n",
    "            ),\n",
    "            (\n",
    "                9,\n",
    "                mk_vertex(\n",
    "                        VertexType.EXTERIOR, (1.0, 0.0), 2\n",
    "                    )\n",
    "            ),\n",
    "            (\n",
    "                10,\n",
    "                mk_vertex(\n",
    "                        VertexType.EXTERIOR, (0.5, 0.5), 2\n",
    "                    )\n",
    "            ),\n",
    "            (\n",
    "                11,\n",
    "                mk_vertex(\n",
    "                        VertexType.INTERIOR, None, 2\n",
    "                    )\n",
    "            ),\n",
    "            (\n",
    "                12,\n",
    "                mk_vertex(\n",
    "                        VertexType.INTERIOR, None, 2\n",
    "                    )\n",
    "            ),\n",
    "\n",
    "            (\n",
    "                14,\n",
    "                mk_vertex(\n",
    "                        VertexType.EXTERIOR, (1.0, 0.0), 2\n",
    "                    )\n",
    "            ),\n",
    "            (\n",
    "                15,\n",
    "                mk_vertex(\n",
    "                        VertexType.EXTERIOR, (1.0, 1.0), 2\n",
    "                    )\n",
    "            ),\n",
    "            (\n",
    "                16,\n",
    "                mk_vertex(\n",
    "                        VertexType.EXTERIOR, (0.5, 0.5), 2\n",
    "                    )\n",
    "            ),\n",
    "            (\n",
    "                17,\n",
    "                mk_vertex(\n",
    "                        VertexType.INTERIOR, None, 2\n",
    "                    )\n",
    "            ),\n",
    "            (\n",
    "                18,\n",
    "                mk_vertex(\n",
    "                        VertexType.INTERIOR, None, 2\n",
    "                    )\n",
    "            )\n",
    "            ]\n",
    "        )\n",
    "\n",
    "graph_p1.add_edges_from(\n",
    "            [\n",
    "                (0, 5),\n",
    "            (0, 6),\n",
    "            (1, 2),\n",
    "            (1, 3),\n",
    "            (2, 3),\n",
    "            (2, 4),\n",
    "            (3, 4),\n",
    "            (1, 5),\n",
    "            (2, 5),\n",
    "            (3, 5),\n",
    "            (2, 6),\n",
    "            (3, 6),\n",
    "            (4, 6),\n",
    "            (7, 8),\n",
    "            (7, 9),\n",
    "            (7, 10),\n",
    "            (8, 10),\n",
    "            (9, 10),\n",
    "            (5, 11),\n",
    "            (5, 12),\n",
    "            (7, 11),\n",
    "            (7, 12),\n",
    "            (8, 11),\n",
    "            (9, 12),\n",
    "            (10, 11),\n",
    "            (10, 12),\n",
    "            (6, 17),\n",
    "            (8, 15),\n",
    "            (14, 15),\n",
    "            (16, 17),\n",
    "            (14, 17),\n",
    "            (15, 17),\n",
    "            (16, 14),\n",
    "            (16, 8),\n",
    "            (16, 18),\n",
    "            (8, 18),\n",
    "            (15, 18),\n",
    "            (6, 18),\n",
    "            (16, 15)\n",
    "            ]\n",
    "        )"
   ],
   "metadata": {
    "collapsed": false
   }
  },
  {
   "cell_type": "code",
   "execution_count": null,
   "outputs": [],
   "source": [
    "draw(graph_p1, figsize=(12,9))"
   ],
   "metadata": {
    "collapsed": false
   }
  },
  {
   "cell_type": "code",
   "execution_count": null,
   "outputs": [],
   "source": [
    "isomorphic_subgraph1 = p7.find_isomorphic_to_left_side(graph_p1)"
   ],
   "metadata": {
    "collapsed": false
   }
  },
  {
   "cell_type": "code",
   "execution_count": null,
   "outputs": [],
   "source": [
    "draw(isomorphic_subgraph1, figsize=(12, 9))"
   ],
   "metadata": {
    "collapsed": false
   }
  },
  {
   "cell_type": "code",
   "execution_count": null,
   "outputs": [],
   "source": [
    "p1_after_first_p2 = p7.apply(graph_p1, isomorphic_subgraph1)"
   ],
   "metadata": {
    "collapsed": false
   }
  },
  {
   "cell_type": "code",
   "execution_count": null,
   "outputs": [],
   "source": [
    "draw(p1_after_first_p2, figsize=(12, 9))"
   ],
   "metadata": {
    "collapsed": false
   }
  }
 ],
 "metadata": {
  "kernelspec": {
   "display_name": "Python 3",
   "language": "python",
   "name": "python3"
  },
  "language_info": {
   "codemirror_mode": {
    "name": "ipython",
    "version": 2
   },
   "file_extension": ".py",
   "mimetype": "text/x-python",
   "name": "python",
   "nbconvert_exporter": "python",
   "pygments_lexer": "ipython2",
   "version": "2.7.6"
  }
 },
 "nbformat": 4,
 "nbformat_minor": 0
}
